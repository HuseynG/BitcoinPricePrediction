{
 "cells": [
  {
   "cell_type": "markdown",
   "metadata": {},
   "source": [
    "# DLinear Model Training"
   ]
  },
  {
   "cell_type": "markdown",
   "metadata": {},
   "source": [
    "## Close Col Only"
   ]
  },
  {
   "cell_type": "markdown",
   "metadata": {},
   "source": [
    "#### Close Column Only (Input: last 12 data points, Output: the next first future data)"
   ]
  },
  {
   "cell_type": "code",
   "execution_count": 3,
   "metadata": {},
   "outputs": [],
   "source": [
    "!python -u run_longExp.py \\\n",
    "    --is_training 1 \\\n",
    "    --train_only True \\\n",
    "    --root_path ../../../data/ \\\n",
    "    --data_path training_data_close_col_only_for_other_models.csv \\\n",
    "    --model_id d_linear_btc_12_1_1_close_only \\\n",
    "    --model DLinear \\\n",
    "    --data custom \\\n",
    "    --features MS \\\n",
    "    --seq_len 12 \\\n",
    "    --label_len 1 \\\n",
    "    --pred_len 1 \\\n",
    "    --enc_in 1 \\\n",
    "    --des 'Exp' \\\n",
    "    --itr 1 \\\n",
    "    --batch_size 4096 \\\n",
    "    --learning_rate 0.5 \\\n",
    "    --individual \\\n",
    "    --use_gpu 1 \\\n",
    "    --devices '0,3' \\\n",
    "    > logs/d_linear_btc_12_1_1_close_only.log \\\n",
    "    --train_epochs 50"
   ]
  },
  {
   "cell_type": "markdown",
   "metadata": {},
   "source": [
    "#### Close Column Only (Input: last 12 data points, Output: the next 12th future data)"
   ]
  },
  {
   "cell_type": "code",
   "execution_count": null,
   "metadata": {},
   "outputs": [],
   "source": [
    "!python -u run_longExp.py \\\n",
    "    --is_training 1 \\\n",
    "    --train_only True \\\n",
    "    --root_path ../../../data/ \\\n",
    "    --data_path training_data_close_col_only_for_other_models.csv \\\n",
    "    --model_id d_linear_btc_12_12_12_close_only \\\n",
    "    --model DLinear \\\n",
    "    --data custom \\\n",
    "    --features MS \\\n",
    "    --seq_len 12 \\\n",
    "    --label_len 12 \\\n",
    "    --pred_len 12 \\\n",
    "    --enc_in 1 \\\n",
    "    --des 'Exp' \\\n",
    "    --itr 1 \\\n",
    "    --batch_size 4096 \\\n",
    "    --learning_rate 0.5 \\\n",
    "    --individual \\\n",
    "    --use_gpu 1 \\\n",
    "    --devices '0,3' \\\n",
    "    > logs/d_linear_btc_12_12_12_close_only.log \\\n",
    "    --train_epochs 50"
   ]
  },
  {
   "cell_type": "markdown",
   "metadata": {},
   "source": [
    "#### Close Column Only (Input: last 96 data points, Output: the next first future data)"
   ]
  },
  {
   "cell_type": "code",
   "execution_count": null,
   "metadata": {},
   "outputs": [],
   "source": [
    "!python -u run_longExp.py \\\n",
    "    --is_training 1 \\\n",
    "    --train_only True \\\n",
    "    --root_path ../../../data/ \\\n",
    "    --data_path training_data_close_col_only_for_other_models.csv \\\n",
    "    --model_id d_linear_btc_96_1_1_close_only \\\n",
    "    --model DLinear \\\n",
    "    --data custom \\\n",
    "    --features MS \\\n",
    "    --seq_len 96 \\\n",
    "    --label_len 1 \\\n",
    "    --pred_len 1 \\\n",
    "    --enc_in 1 \\\n",
    "    --des 'Exp' \\\n",
    "    --itr 1 \\\n",
    "    --batch_size 4096 \\\n",
    "    --learning_rate 0.5 \\\n",
    "    --individual \\\n",
    "    --use_gpu 1 \\\n",
    "    --devices '0,3' \\\n",
    "    > logs/d_linear_btc_96_1_1_close_only.log \\\n",
    "    --train_epochs 50"
   ]
  },
  {
   "cell_type": "markdown",
   "metadata": {},
   "source": [
    "#### Close Column Only (Input: last 96 data points, Output: the next 12th future data)"
   ]
  },
  {
   "cell_type": "code",
   "execution_count": null,
   "metadata": {},
   "outputs": [],
   "source": [
    "!python -u run_longExp.py \\\n",
    "    --is_training 1 \\\n",
    "    --train_only True \\\n",
    "    --root_path ../../../data/ \\\n",
    "    --data_path training_data_close_col_only_for_other_models.csv \\\n",
    "    --model_id d_linear_btc_96_12_12_close_only \\\n",
    "    --model DLinear \\\n",
    "    --data custom \\\n",
    "    --features MS \\\n",
    "    --seq_len 96 \\\n",
    "    --label_len 12 \\\n",
    "    --pred_len 12 \\\n",
    "    --enc_in 1 \\\n",
    "    --des 'Exp' \\\n",
    "    --itr 1 \\\n",
    "    --batch_size 4096 \\\n",
    "    --learning_rate 0.5 \\\n",
    "    --individual \\\n",
    "    --use_gpu 1 \\\n",
    "    --devices '0,3' \\\n",
    "    > logs/d_linear_btc_96_12_12_close_only.log \\\n",
    "    --train_epochs 50"
   ]
  },
  {
   "cell_type": "markdown",
   "metadata": {},
   "source": [
    "#### Close Column Only (Input: last 504 data points (1 week), Output: the next 12th future data)"
   ]
  },
  {
   "cell_type": "code",
   "execution_count": null,
   "metadata": {},
   "outputs": [],
   "source": [
    "!python -u run_longExp.py \\\n",
    "    --is_training 1 \\\n",
    "    --train_only True \\\n",
    "    --root_path ../../../data/ \\\n",
    "    --data_path training_data_close_col_only_for_other_models.csv \\\n",
    "    --model_id d_linear_btc_504_12_12_close_only \\\n",
    "    --model DLinear \\\n",
    "    --data custom \\\n",
    "    --features MS \\\n",
    "    --seq_len 504 \\\n",
    "    --label_len 12 \\\n",
    "    --pred_len 12 \\\n",
    "    --enc_in 1 \\\n",
    "    --des 'Exp' \\\n",
    "    --itr 1 \\\n",
    "    --batch_size 4096 \\\n",
    "    --learning_rate 0.5 \\\n",
    "    --individual \\\n",
    "    --use_gpu 1 \\\n",
    "    --devices '0,3' \\\n",
    "    > logs/d_linear_btc_504_12_12_close_only.log \\\n",
    "    --train_epochs 50"
   ]
  },
  {
   "cell_type": "markdown",
   "metadata": {},
   "source": [
    "## Top Columns"
   ]
  },
  {
   "cell_type": "markdown",
   "metadata": {},
   "source": [
    "#### Top Columns (Input: last 12 data points, Output: the next first future data)"
   ]
  },
  {
   "cell_type": "code",
   "execution_count": 1,
   "metadata": {},
   "outputs": [],
   "source": [
    "!python -u run_longExp.py \\\n",
    "    --is_training 1 \\\n",
    "    --train_only True \\\n",
    "    --root_path ../../../data/ \\\n",
    "    --data_path training_data_top_features_for_other_models.csv \\\n",
    "    --model_id d_linear_btc_12_1_1_top_features \\\n",
    "    --model DLinear \\\n",
    "    --data custom \\\n",
    "    --features MS \\\n",
    "    --seq_len 12 \\\n",
    "    --label_len 1 \\\n",
    "    --pred_len 1 \\\n",
    "    --enc_in 11 \\\n",
    "    --des 'Exp' \\\n",
    "    --itr 1 \\\n",
    "    --batch_size 4096 \\\n",
    "    --learning_rate 0.5 \\\n",
    "    --individual \\\n",
    "    --use_gpu 1 \\\n",
    "    --devices '0,3' \\\n",
    "    > logs/d_linear_btc_12_1_1_top_features.log \\\n",
    "    --train_epochs 50"
   ]
  },
  {
   "cell_type": "markdown",
   "metadata": {},
   "source": [
    "#### Top Columns (Input: last 12 data points, Output: the next 12th future data)\n"
   ]
  },
  {
   "cell_type": "code",
   "execution_count": null,
   "metadata": {},
   "outputs": [],
   "source": [
    "!python -u run_longExp.py \\\n",
    "    --is_training 1 \\\n",
    "    --train_only True \\\n",
    "    --root_path ../../../data/ \\\n",
    "    --data_path training_data_top_features_for_other_models.csv \\\n",
    "    --model_id d_linear_btc_12_12_12_top_features \\\n",
    "    --model DLinear \\\n",
    "    --data custom \\\n",
    "    --features MS \\\n",
    "    --seq_len 12 \\\n",
    "    --label_len 12 \\\n",
    "    --pred_len 12 \\\n",
    "    --enc_in 11 \\\n",
    "    --des 'Exp' \\\n",
    "    --itr 1 \\\n",
    "    --batch_size 4096 \\\n",
    "    --learning_rate 0.5 \\\n",
    "    --individual \\\n",
    "    --use_gpu 1 \\\n",
    "    --devices '0,3' \\\n",
    "    > logs/d_linear_btc_12_12_12_top_features.log \\\n",
    "    --train_epochs 50"
   ]
  },
  {
   "cell_type": "markdown",
   "metadata": {},
   "source": [
    "#### Top Columns (Input: last 96 data points, Output: the next first future data)\n"
   ]
  },
  {
   "cell_type": "code",
   "execution_count": null,
   "metadata": {},
   "outputs": [],
   "source": [
    "!python -u run_longExp.py \\\n",
    "    --is_training 1 \\\n",
    "    --train_only True \\\n",
    "    --root_path ../../../data/ \\\n",
    "    --data_path training_data_top_features_for_other_models.csv \\\n",
    "    --model_id d_linear_btc_96_1_1_top_features \\\n",
    "    --model DLinear \\\n",
    "    --data custom \\\n",
    "    --features MS \\\n",
    "    --seq_len 96 \\\n",
    "    --label_len 1 \\\n",
    "    --pred_len 1 \\\n",
    "    --enc_in 11 \\\n",
    "    --des 'Exp' \\\n",
    "    --itr 1 \\\n",
    "    --batch_size 4096 \\\n",
    "    --learning_rate 0.5 \\\n",
    "    --individual \\\n",
    "    --use_gpu 1 \\\n",
    "    --devices '0,3' \\\n",
    "    > logs/d_linear_btc_96_1_1_top_features.log \\\n",
    "    --train_epochs 50"
   ]
  },
  {
   "cell_type": "markdown",
   "metadata": {},
   "source": [
    "#### Top Columns (Input: last 96 data points, Output: the next 12th future data)\n"
   ]
  },
  {
   "cell_type": "code",
   "execution_count": null,
   "metadata": {},
   "outputs": [],
   "source": [
    "!python -u run_longExp.py \\\n",
    "    --is_training 1 \\\n",
    "    --train_only True \\\n",
    "    --root_path ../../../data/ \\\n",
    "    --data_path training_data_top_features_for_other_models.csv \\\n",
    "    --model_id d_linear_btc_96_12_12_top_features \\\n",
    "    --model DLinear \\\n",
    "    --data custom \\\n",
    "    --features MS \\\n",
    "    --seq_len 96 \\\n",
    "    --label_len 12 \\\n",
    "    --pred_len 12 \\\n",
    "    --enc_in 11 \\\n",
    "    --des 'Exp' \\\n",
    "    --itr 1 \\\n",
    "    --batch_size 4096 \\\n",
    "    --learning_rate 0.5 \\\n",
    "    --individual \\\n",
    "    --use_gpu 1 \\\n",
    "    --devices '0,3' \\\n",
    "    > logs/d_linear_btc_96_12_12_top_features.log \\\n",
    "    --train_epochs 50"
   ]
  },
  {
   "cell_type": "markdown",
   "metadata": {},
   "source": [
    "#### Top Columns (Input: last 504 data points, Output: the next 12th future data)\n"
   ]
  },
  {
   "cell_type": "code",
   "execution_count": null,
   "metadata": {},
   "outputs": [],
   "source": [
    "!python -u run_longExp.py \\\n",
    "    --is_training 1 \\\n",
    "    --train_only True \\\n",
    "    --root_path ../../../data/ \\\n",
    "    --data_path training_data_top_features_for_other_models.csv \\\n",
    "    --model_id d_linear_btc_504_12_12_top_features \\\n",
    "    --model DLinear \\\n",
    "    --data custom \\\n",
    "    --features MS \\\n",
    "    --seq_len 504 \\\n",
    "    --label_len 12 \\\n",
    "    --pred_len 12 \\\n",
    "    --enc_in 11 \\\n",
    "    --des 'Exp' \\\n",
    "    --itr 1 \\\n",
    "    --batch_size 4096 \\\n",
    "    --learning_rate 0.5 \\\n",
    "    --individual \\\n",
    "    --use_gpu 1 \\\n",
    "    --devices '0,3' \\\n",
    "    > logs/d_linear_btc_504_12_12_top_features.log \\\n",
    "    --train_epochs 50"
   ]
  },
  {
   "cell_type": "markdown",
   "metadata": {},
   "source": [
    "# -------------------------------------------"
   ]
  },
  {
   "cell_type": "markdown",
   "metadata": {},
   "source": [
    "# NLinear Model Training"
   ]
  },
  {
   "cell_type": "markdown",
   "metadata": {},
   "source": [
    "## Close Col Only"
   ]
  },
  {
   "cell_type": "markdown",
   "metadata": {},
   "source": [
    "#### Close Column Only (Input: last 12 data points, Output: the next first future data)"
   ]
  },
  {
   "cell_type": "code",
   "execution_count": 1,
   "metadata": {},
   "outputs": [],
   "source": [
    "!python -u run_longExp.py \\\n",
    "    --is_training 1 \\\n",
    "    --train_only True \\\n",
    "    --root_path ../../../data/ \\\n",
    "    --data_path training_data_close_col_only_for_other_models.csv \\\n",
    "    --model_id n_linear_btc_12_1_1_close_only \\\n",
    "    --model NLinear \\\n",
    "    --data custom \\\n",
    "    --features MS \\\n",
    "    --seq_len 12 \\\n",
    "    --label_len 1 \\\n",
    "    --pred_len 1 \\\n",
    "    --enc_in 1 \\\n",
    "    --des 'Exp' \\\n",
    "    --itr 1 \\\n",
    "    --batch_size 4096 \\\n",
    "    --learning_rate 0.5 \\\n",
    "    --individual \\\n",
    "    --use_gpu 1 \\\n",
    "    --devices '0,3' \\\n",
    "    > logs/n_linear_btc_12_1_1_close_only.log \\\n",
    "    --train_epochs 50"
   ]
  },
  {
   "cell_type": "markdown",
   "metadata": {},
   "source": [
    "#### Close Column Only (Input: last 12 data points, Output: the next 12th future data)"
   ]
  },
  {
   "cell_type": "code",
   "execution_count": null,
   "metadata": {},
   "outputs": [],
   "source": [
    "!python -u run_longExp.py \\\n",
    "    --is_training 1 \\\n",
    "    --train_only True \\\n",
    "    --root_path ../../../data/ \\\n",
    "    --data_path training_data_close_col_only_for_other_models.csv \\\n",
    "    --model_id n_linear_btc_12_12_12_close_only \\\n",
    "    --model NLinear \\\n",
    "    --data custom \\\n",
    "    --features MS \\\n",
    "    --seq_len 12 \\\n",
    "    --label_len 12 \\\n",
    "    --pred_len 12 \\\n",
    "    --enc_in 1 \\\n",
    "    --des 'Exp' \\\n",
    "    --itr 1 \\\n",
    "    --batch_size 4096 \\\n",
    "    --learning_rate 0.5 \\\n",
    "    --individual \\\n",
    "    --use_gpu 1 \\\n",
    "    --devices '0,3' \\\n",
    "    > logs/n_linear_btc_12_12_12_close_only.log \\\n",
    "    --train_epochs 50"
   ]
  },
  {
   "cell_type": "markdown",
   "metadata": {},
   "source": [
    "#### Close Column Only (Input: last 96 data points, Output: the next first future data)"
   ]
  },
  {
   "cell_type": "code",
   "execution_count": null,
   "metadata": {},
   "outputs": [],
   "source": [
    "!python -u run_longExp.py \\\n",
    "    --is_training 1 \\\n",
    "    --train_only True \\\n",
    "    --root_path ../../../data/ \\\n",
    "    --data_path training_data_close_col_only_for_other_models.csv \\\n",
    "    --model_id n_linear_btc_96_1_1_close_only \\\n",
    "    --model NLinear \\\n",
    "    --data custom \\\n",
    "    --features MS \\\n",
    "    --seq_len 96 \\\n",
    "    --label_len 1 \\\n",
    "    --pred_len 1 \\\n",
    "    --enc_in 1 \\\n",
    "    --des 'Exp' \\\n",
    "    --itr 1 \\\n",
    "    --batch_size 4096 \\\n",
    "    --learning_rate 0.5 \\\n",
    "    --individual \\\n",
    "    --use_gpu 1 \\\n",
    "    --devices '0,3' \\\n",
    "    > logs/n_linear_btc_96_1_1_close_only.log \\\n",
    "    --train_epochs 50"
   ]
  },
  {
   "cell_type": "markdown",
   "metadata": {},
   "source": [
    "#### Close Column Only (Input: last 96 data points, Output: the next 12th future data)"
   ]
  },
  {
   "cell_type": "code",
   "execution_count": null,
   "metadata": {},
   "outputs": [],
   "source": [
    "!python -u run_longExp.py \\\n",
    "    --is_training 1 \\\n",
    "    --train_only True \\\n",
    "    --root_path ../../../data/ \\\n",
    "    --data_path training_data_close_col_only_for_other_models.csv \\\n",
    "    --model_id n_linear_btc_96_12_12_close_only \\\n",
    "    --model NLinear \\\n",
    "    --data custom \\\n",
    "    --features MS \\\n",
    "    --seq_len 96 \\\n",
    "    --label_len 12 \\\n",
    "    --pred_len 12 \\\n",
    "    --enc_in 1 \\\n",
    "    --des 'Exp' \\\n",
    "    --itr 1 \\\n",
    "    --batch_size 4096 \\\n",
    "    --learning_rate 0.5 \\\n",
    "    --individual \\\n",
    "    --use_gpu 1 \\\n",
    "    --devices '0,3' \\\n",
    "    > logs/n_linear_btc_96_12_12_close_only.log \\\n",
    "    --train_epochs 50"
   ]
  },
  {
   "cell_type": "markdown",
   "metadata": {},
   "source": [
    "#### Close Column Only (Input: last 504 data points (1 week), Output: the next 12th future data)"
   ]
  },
  {
   "cell_type": "code",
   "execution_count": null,
   "metadata": {},
   "outputs": [],
   "source": [
    "!python -u run_longExp.py \\\n",
    "    --is_training 1 \\\n",
    "    --train_only True \\\n",
    "    --root_path ../../../data/ \\\n",
    "    --data_path training_data_close_col_only_for_other_models.csv \\\n",
    "    --model_id n_linear_btc_504_12_12_close_only \\\n",
    "    --model NLinear \\\n",
    "    --data custom \\\n",
    "    --features MS \\\n",
    "    --seq_len 504 \\\n",
    "    --label_len 12 \\\n",
    "    --pred_len 12 \\\n",
    "    --enc_in 1 \\\n",
    "    --des 'Exp' \\\n",
    "    --itr 1 \\\n",
    "    --batch_size 4096 \\\n",
    "    --learning_rate 0.5 \\\n",
    "    --individual \\\n",
    "    --use_gpu 1 \\\n",
    "    --devices '0,3' \\\n",
    "    > logs/n_linear_btc_504_12_12_close_only.log \\\n",
    "    --train_epochs 50"
   ]
  },
  {
   "cell_type": "markdown",
   "metadata": {},
   "source": [
    "## Top Columns"
   ]
  },
  {
   "cell_type": "markdown",
   "metadata": {},
   "source": [
    "#### Top Columns (Input: last 12 data points, Output: the next first future data)\n"
   ]
  },
  {
   "cell_type": "code",
   "execution_count": null,
   "metadata": {},
   "outputs": [],
   "source": [
    "!python -u run_longExp.py \\\n",
    "    --is_training 1 \\\n",
    "    --train_only True \\\n",
    "    --root_path ../../../data/ \\\n",
    "    --data_path training_data_top_features_for_other_models.csv \\\n",
    "    --model_id n_linear_btc_12_1_1_top_features \\\n",
    "    --model NLinear \\\n",
    "    --data custom \\\n",
    "    --features MS \\\n",
    "    --seq_len 12 \\\n",
    "    --label_len 1 \\\n",
    "    --pred_len 1 \\\n",
    "    --enc_in 11 \\\n",
    "    --des 'Exp' \\\n",
    "    --itr 1 \\\n",
    "    --batch_size 4096 \\\n",
    "    --learning_rate 0.5 \\\n",
    "    --individual \\\n",
    "    --use_gpu 1 \\\n",
    "    --devices '0,3' \\\n",
    "    > logs/n_linear_btc_12_1_1_top_features.log \\\n",
    "    --train_epochs 50"
   ]
  },
  {
   "cell_type": "markdown",
   "metadata": {},
   "source": [
    "#### Top Columns (Input: last 12 data points, Output: the next 12th future data)"
   ]
  },
  {
   "cell_type": "code",
   "execution_count": null,
   "metadata": {},
   "outputs": [],
   "source": [
    "!python -u run_longExp.py \\\n",
    "    --is_training 1 \\\n",
    "    --train_only True \\\n",
    "    --root_path ../../../data/ \\\n",
    "    --data_path training_data_top_features_for_other_models.csv \\\n",
    "    --model_id n_linear_btc_12_12_12_top_features \\\n",
    "    --model NLinear \\\n",
    "    --data custom \\\n",
    "    --features MS \\\n",
    "    --seq_len 12 \\\n",
    "    --label_len 12 \\\n",
    "    --pred_len 12 \\\n",
    "    --enc_in 11 \\\n",
    "    --des 'Exp' \\\n",
    "    --itr 1 \\\n",
    "    --batch_size 4096 \\\n",
    "    --learning_rate 0.5 \\\n",
    "    --individual \\\n",
    "    --use_gpu 1 \\\n",
    "    --devices '0,3' \\\n",
    "    > logs/n_linear_btc_12_12_12_top_features.log \\\n",
    "    --train_epochs 50"
   ]
  },
  {
   "cell_type": "markdown",
   "metadata": {},
   "source": [
    "#### Top Columns (Input: last 96 data points, Output: the next first future data)"
   ]
  },
  {
   "cell_type": "code",
   "execution_count": null,
   "metadata": {},
   "outputs": [],
   "source": [
    "!python -u run_longExp.py \\\n",
    "    --is_training 1 \\\n",
    "    --train_only True \\\n",
    "    --root_path ../../../data/ \\\n",
    "    --data_path training_data_top_features_for_other_models.csv \\\n",
    "    --model_id n_linear_btc_96_1_1_top_features \\\n",
    "    --model NLinear \\\n",
    "    --data custom \\\n",
    "    --features MS \\\n",
    "    --seq_len 96 \\\n",
    "    --label_len 1 \\\n",
    "    --pred_len 1 \\\n",
    "    --enc_in 11 \\\n",
    "    --des 'Exp' \\\n",
    "    --itr 1 \\\n",
    "    --batch_size 4096 \\\n",
    "    --learning_rate 0.5 \\\n",
    "    --individual \\\n",
    "    --use_gpu 1 \\\n",
    "    --devices '0,3' \\\n",
    "    > logs/n_linear_btc_96_1_1_top_features.log \\\n",
    "    --train_epochs 50"
   ]
  },
  {
   "cell_type": "markdown",
   "metadata": {},
   "source": [
    "#### Top Columns (Input: last 96 data points, Output: the next 12th future data)"
   ]
  },
  {
   "cell_type": "code",
   "execution_count": null,
   "metadata": {},
   "outputs": [],
   "source": [
    "!python -u run_longExp.py \\\n",
    "    --is_training 1 \\\n",
    "    --train_only True \\\n",
    "    --root_path ../../../data/ \\\n",
    "    --data_path training_data_top_features_for_other_models.csv \\\n",
    "    --model_id n_linear_btc_96_12_12_top_features \\\n",
    "    --model NLinear \\\n",
    "    --data custom \\\n",
    "    --features MS \\\n",
    "    --seq_len 96 \\\n",
    "    --label_len 12 \\\n",
    "    --pred_len 12 \\\n",
    "    --enc_in 11 \\\n",
    "    --des 'Exp' \\\n",
    "    --itr 1 \\\n",
    "    --batch_size 4096 \\\n",
    "    --learning_rate 0.5 \\\n",
    "    --individual \\\n",
    "    --use_gpu 1 \\\n",
    "    --devices '0,3' \\\n",
    "    > logs/n_linear_btc_96_12_12_top_features.log \\\n",
    "    --train_epochs 50"
   ]
  },
  {
   "cell_type": "markdown",
   "metadata": {},
   "source": [
    "#### Top Columns (Input: last 504 data points (1 week), Output: the next 12th future data)"
   ]
  },
  {
   "cell_type": "code",
   "execution_count": null,
   "metadata": {},
   "outputs": [],
   "source": [
    "!python -u run_longExp.py \\\n",
    "    --is_training 1 \\\n",
    "    --train_only True \\\n",
    "    --root_path ../../../data/ \\\n",
    "    --data_path training_data_top_features_for_other_models.csv \\\n",
    "    --model_id n_linear_btc_504_12_12_top_features \\\n",
    "    --model NLinear \\\n",
    "    --data custom \\\n",
    "    --features MS \\\n",
    "    --seq_len 504 \\\n",
    "    --label_len 12 \\\n",
    "    --pred_len 12 \\\n",
    "    --enc_in 11 \\\n",
    "    --des 'Exp' \\\n",
    "    --itr 1 \\\n",
    "    --batch_size 4096 \\\n",
    "    --learning_rate 0.5 \\\n",
    "    --individual \\\n",
    "    --use_gpu 1 \\\n",
    "    --devices '0,3' \\\n",
    "    > logs/n_linear_btc_504_12_12_top_features.log \\\n",
    "    --train_epochs 50"
   ]
  },
  {
   "cell_type": "markdown",
   "metadata": {},
   "source": [
    "# -------------------------------------------"
   ]
  }
 ],
 "metadata": {
  "kernelspec": {
   "display_name": "LTSF_Linear",
   "language": "python",
   "name": "python3"
  },
  "language_info": {
   "codemirror_mode": {
    "name": "ipython",
    "version": 3
   },
   "file_extension": ".py",
   "mimetype": "text/x-python",
   "name": "python",
   "nbconvert_exporter": "python",
   "pygments_lexer": "ipython3",
   "version": "3.6.9"
  },
  "orig_nbformat": 4
 },
 "nbformat": 4,
 "nbformat_minor": 2
}
