{
 "cells": [
  {
   "cell_type": "code",
   "execution_count": 1,
   "metadata": {},
   "outputs": [],
   "source": [
    "# This script prepares Training, Validation and Testing Data Separately for other models.\n",
    "import pandas as pd\n",
    "import pickle"
   ]
  },
  {
   "cell_type": "markdown",
   "metadata": {},
   "source": [
    "Creating Datasets Only For Bitcoin Close Price"
   ]
  },
  {
   "cell_type": "code",
   "execution_count": 2,
   "metadata": {},
   "outputs": [
    {
     "name": "stdout",
     "output_type": "stream",
     "text": [
      "2\n"
     ]
    }
   ],
   "source": [
    "df = pd.read_csv('../../data/Final_data_hourly.csv')\n",
    "\n",
    "df = df[[\"close\"]]\n",
    "df['date'] = pd.date_range(start='2012-01-01', periods=len(df), freq='H')\n",
    "df = df[['date'] + [col for col in df.columns if col != 'date' and col != 'close'] + ['close']] # last col is target col\n",
    "\n",
    "df_training = df[:int(len(df) * 0.9)]\n",
    "df_validation = df[int(len(df) * 0.9):int(len(df) * 0.95)]\n",
    "df_testing = df[int(len(df) * 0.95):]\n",
    "\n",
    "df_training.to_csv('../../data/training_data_close_col_only_for_other_models.csv', index=False)\n",
    "df_validation.to_csv('../../data/validation_data_close_col_only_for_other_models.csv', index=False)\n",
    "df_testing.to_csv('../../data/testing_data_close_col_only_for_other_models.csv', index=False)\n",
    "\n",
    "print(len(df.columns))"
   ]
  },
  {
   "cell_type": "markdown",
   "metadata": {},
   "source": [
    "Creating Datasets For Top Selected Features"
   ]
  },
  {
   "cell_type": "code",
   "execution_count": 3,
   "metadata": {},
   "outputs": [
    {
     "name": "stdout",
     "output_type": "stream",
     "text": [
      "12\n"
     ]
    }
   ],
   "source": [
    "df = pd.read_csv('../../data/Final_data_hourly.csv')\n",
    "with open('../../data/top_feattures.pkl', 'rb') as file:\n",
    "    top_features = pickle.load(file)\n",
    "\n",
    "top_features.append('close')\n",
    "df = df[top_features]\n",
    "df['date'] = pd.date_range(start='2012-01-01', periods=len(df), freq='H')\n",
    "df = df[['date'] + [col for col in df.columns if col != 'date' and col != 'close'] + ['close']]\n",
    "\n",
    "df_training = df[:int(len(df) * 0.9)]\n",
    "df_validation = df[int(len(df) * 0.9):int(len(df) * 0.95)]\n",
    "df_testing = df[int(len(df) * 0.95):]\n",
    "\n",
    "df_training.to_csv('../../data/training_data_top_features_for_other_models.csv', index=False)\n",
    "df_validation.to_csv('../../data/validation_data_top_features_for_other_models.csv', index=False)\n",
    "df_testing.to_csv('../../data/testing_data_top_features_for_other_models.csv', index=False)\n",
    "\n",
    "print(len(df.columns))"
   ]
  }
 ],
 "metadata": {
  "kernelspec": {
   "display_name": "bitcoinproject1",
   "language": "python",
   "name": "python3"
  },
  "language_info": {
   "codemirror_mode": {
    "name": "ipython",
    "version": 3
   },
   "file_extension": ".py",
   "mimetype": "text/x-python",
   "name": "python",
   "nbconvert_exporter": "python",
   "pygments_lexer": "ipython3",
   "version": "3.9.17"
  },
  "orig_nbformat": 4
 },
 "nbformat": 4,
 "nbformat_minor": 2
}
