{
 "cells": [
  {
   "cell_type": "code",
   "execution_count": null,
   "metadata": {},
   "outputs": [],
   "source": [
    "import torch\n",
    "import pandas as pd \n",
    "import numpy as np\n",
    "from transformer import VanillaTimeSeriesTransformer_EncoderOnly, VanillaTimeSeriesTransformer\n",
    "from utils import Trainer, preprocess_data, seed_everything\n",
    "from torch.optim import Adam\n",
    "from torch.nn import MSELoss, L1Loss\n",
    "import pickle \n",
    "\n",
    "\n",
    "seed_everything()"
   ]
  },
  {
   "cell_type": "code",
   "execution_count": null,
   "metadata": {},
   "outputs": [],
   "source": [
    "class ModelTrainingManager:\n",
    "    \n",
    "    def __init__(self, model_name, df_path, best_path, top_features_num, input_len, next_ith, top_features_path='../data/top_feattures.pkl',\n",
    "                 batch_size=256, num_epochs=100, early_stopping_patience_limit=10, device='cuda:3', \n",
    "                 model_file_path=\"models/best_model.pt\", is_save_model=True, is_plot=True, is_plot_and_plot_test=False):\n",
    "        \n",
    "        self.model_name = model_name\n",
    "        self.df_path = df_path\n",
    "        self.best_path = best_path\n",
    "        self.top_features_num = top_features_num\n",
    "        self.input_len = input_len\n",
    "        self.next_ith = next_ith\n",
    "        self.top_features_path = top_features_path\n",
    "        self.batch_size = batch_size\n",
    "        self.num_epochs = num_epochs\n",
    "        self.early_stopping_patience_limit = early_stopping_patience_limit\n",
    "        self.device = torch.device(device if torch.cuda.is_available() else 'cpu')\n",
    "        self.model_file_path = model_file_path\n",
    "        self.is_save_model = is_save_model\n",
    "        self.is_plot = is_plot\n",
    "        self.is_plot_and_plot_test = is_plot_and_plot_test\n",
    "\n",
    "    def preprocess_data(self):\n",
    "        self.df = pd.read_csv(self.df_path)\n",
    "        with open(self.top_features_path, 'rb') as file:\n",
    "            top_feattures = pickle.load(file)\n",
    "        top_feattures = top_feattures[:self.top_features_num]\n",
    "        top_feattures.append('close')\n",
    "        self.df = self.df[top_feattures]\n",
    "        \n",
    "        # preprocessing filtered df\n",
    "        self.scaled_df, _, self.scaler_close, self.train_dataloader, self.val_dataloader, self.test_dataloader = preprocess_data(\n",
    "            self.df, batch_size=self.batch_size, input_seq_len=self.input_len, output_seq_len=self.next_ith)\n",
    "\n",
    "    def load_model(self):\n",
    "        with open(self.best_path, 'rb') as file:\n",
    "            self.best = pickle.load(file)\n",
    "\n",
    "        # assigning model's hyperparameters based on the tuning\n",
    "        model_params = {\n",
    "            \"num_features\": int(len(self.scaled_df.columns)),\n",
    "            \"num_layers\": int(self.best[\"num_layers\"]),\n",
    "            \"num_heads\": int(self.best[\"num_heads\"]),\n",
    "            \"d_model\": int(self.best['d_model_by_num_heads']) * int(self.best[\"num_heads\"]),\n",
    "            \"dff\": int(self.best['dff']),\n",
    "            \"mlp_size\": int(self.best['mlp_size']), # size of the first MLP layer\n",
    "            \"dropout_rate\": round(self.best['dropout_rate'], 3),  # dropout rate for the Transformer layers\n",
    "            \"mlp_dropout_rate\": round(self.best['mlp_dropout_rate'], 3) # dropout rate for the MLP layers\n",
    "        }\n",
    "\n",
    "        # instantiating model itself\n",
    "        self.model = eval(self.model_name)(**model_params)\n",
    "        self.model = self.model.to(self.device)\n",
    "\n",
    "\n",
    "    def compile_and_train(self):\n",
    "        self.criterion = MSELoss() \n",
    "        self.optimiser = Adam(self.model.parameters(), lr=round(self.best['lr'], 6))\n",
    "        self.scheduler = torch.optim.lr_scheduler.ReduceLROnPlateau(self.optimiser, 'min', factor=0.9, patience=5)\n",
    "\n",
    "        # declaring trainer object\n",
    "        self.model_trainer = Trainer(model=self.model,\n",
    "                            train_dataloader=self.train_dataloader,\n",
    "                            val_dataloader=self.val_dataloader,\n",
    "                            test_dataloader=self.test_dataloader,\n",
    "                            criterion=self.criterion,\n",
    "                            optimiser=self.optimiser,\n",
    "                            scheduler=self.scheduler,\n",
    "                            device=self.device,\n",
    "                            num_epochs=self.num_epochs,\n",
    "                            early_stopping_patience_limit=self.early_stopping_patience_limit,\n",
    "                            is_save_model=self.is_save_model,\n",
    "                            scaler=self.scaler_close,\n",
    "                            file_path = self.model_file_path)\n",
    "        # training\n",
    "        self.train_losses, self.val_losses = self.model_trainer.train_loop(is_plot=self.is_plot, \n",
    "                                                                           is_plot_and_plot_test=self.is_plot_and_plot_test)\n",
    "\n",
    "    def test(self):\n",
    "        # testing\n",
    "        self.mse, self.mae = self.model_trainer.test_model()\n",
    "\n",
    "    def run_training_testing(self):\n",
    "        self.preprocess_data()\n",
    "        self.load_model()\n",
    "        self.compile_and_train()\n",
    "        self.test()\n"
   ]
  },
  {
   "cell_type": "markdown",
   "metadata": {},
   "source": [
    "# Vanilla Transformer - Encoder Only"
   ]
  },
  {
   "cell_type": "markdown",
   "metadata": {},
   "source": [
    "#### Close Column Only (Input: last 96 data points, Output: the next first future data)"
   ]
  },
  {
   "cell_type": "code",
   "execution_count": null,
   "metadata": {},
   "outputs": [],
   "source": [
    "ModelTrainingManager(model_name=\"VanillaTimeSeriesTransformer_EncoderOnly\",\n",
    "    df_path=\"../data/Final_data_hourly.csv\",\n",
    "    best_path=\"../data/best_on_hyperparam_for_top_Feature_Combo_vanilla_transformer_hourly.pkl\",\n",
    "    top_features_num=0, \n",
    "    input_len=96, \n",
    "    next_ith=1,\n",
    "    top_features_path='../data/top_feattures.pkl',\n",
    "    model_file_path=\"models/transformer_enc_only_close_col_best_model_96_1.pt\").run_training_testing()"
   ]
  },
  {
   "cell_type": "markdown",
   "metadata": {},
   "source": [
    "#### Top 2 Features (Input: last 96 data points, Output: the next first future data)"
   ]
  },
  {
   "cell_type": "code",
   "execution_count": null,
   "metadata": {},
   "outputs": [],
   "source": [
    "ModelTrainingManager(model_name=\"VanillaTimeSeriesTransformer_EncoderOnly\",\n",
    "    df_path=\"../data/Final_data_hourly.csv\",\n",
    "    best_path=\"../data/best_on_hyperparam_for_top_Feature_Combo_vanilla_transformer_hourly.pkl\",\n",
    "    top_features_num=2, \n",
    "    input_len=96, \n",
    "    next_ith=1,\n",
    "    top_features_path='../data/top_feattures.pkl',\n",
    "    model_file_path=\"models/transformer_enc_only_close&2_col_best_model_96_1.pt\").run_training_testing()"
   ]
  },
  {
   "cell_type": "markdown",
   "metadata": {},
   "source": [
    "#### Top 5 Features (Input: last 96 data points, Output: the next first future data)"
   ]
  },
  {
   "cell_type": "code",
   "execution_count": null,
   "metadata": {},
   "outputs": [],
   "source": [
    "ModelTrainingManager(model_name=\"VanillaTimeSeriesTransformer_EncoderOnly\",\n",
    "    df_path=\"../data/Final_data_hourly.csv\",\n",
    "    best_path=\"../data/best_on_hyperparam_for_top_Feature_Combo_vanilla_transformer_hourly.pkl\",\n",
    "    top_features_num=5, \n",
    "    input_len=96, \n",
    "    next_ith=1,\n",
    "    top_features_path='../data/top_feattures.pkl',\n",
    "    model_file_path=\"models/transformer_enc_only_close&5_col_best_model_96_1.pt\").run_training_testing()"
   ]
  },
  {
   "cell_type": "markdown",
   "metadata": {},
   "source": [
    "#### Top 10 Features (Input: last 96 data points, Output: the next first future data)"
   ]
  },
  {
   "cell_type": "code",
   "execution_count": null,
   "metadata": {},
   "outputs": [],
   "source": [
    "ModelTrainingManager(model_name=\"VanillaTimeSeriesTransformer_EncoderOnly\",\n",
    "    df_path=\"../data/Final_data_hourly.csv\",\n",
    "    best_path=\"../data/best_on_hyperparam_for_top_Feature_Combo_vanilla_transformer_hourly.pkl\",\n",
    "    top_features_num=10, \n",
    "    input_len=96, \n",
    "    next_ith=1,\n",
    "    top_features_path='../data/top_feattures.pkl',\n",
    "    model_file_path=\"models/transformer_enc_only_close&10_col_best_model_96_1.pt\").run_training_testing()"
   ]
  },
  {
   "cell_type": "markdown",
   "metadata": {},
   "source": [
    "#### Selected Top Features (Input: last 96 data points, Output: the next 12th future data)"
   ]
  },
  {
   "cell_type": "code",
   "execution_count": null,
   "metadata": {},
   "outputs": [],
   "source": [
    "ModelTrainingManager(model_name=\"VanillaTimeSeriesTransformer_EncoderOnly\",\n",
    "    df_path=\"../data/Final_data_hourly.csv\",\n",
    "    best_path=\"../data/best_on_hyperparam_for_top_Feature_Combo_vanilla_transformer_hourly.pkl\",\n",
    "    top_features_num=0, \n",
    "    input_len=96, \n",
    "    next_ith=12,\n",
    "    top_features_path='../data/top_feattures.pkl',\n",
    "    model_file_path=\"models/transformer_enc_only_close_col_best_model_96_12.pt\").run_training_testing()"
   ]
  },
  {
   "cell_type": "markdown",
   "metadata": {},
   "source": [
    "#### Selected Top Features (Input: last 192 data points, Output: the next 24th future data)"
   ]
  },
  {
   "cell_type": "code",
   "execution_count": null,
   "metadata": {},
   "outputs": [],
   "source": [
    "ModelTrainingManager(model_name=\"VanillaTimeSeriesTransformer_EncoderOnly\",\n",
    "    df_path=\"../data/Final_data_hourly.csv\",\n",
    "    best_path=\"../data/best_on_hyperparam_for_top_Feature_Combo_vanilla_transformer_hourly.pkl\",\n",
    "    top_features_num=0, \n",
    "    input_len=192, \n",
    "    next_ith=24,\n",
    "    top_features_path='../data/top_feattures.pkl',\n",
    "    model_file_path=\"models/transformer_enc_only_close_col_best_model_192_24.pt\").run_training_testing()"
   ]
  },
  {
   "cell_type": "markdown",
   "metadata": {},
   "source": [
    "## Close Column Only"
   ]
  },
  {
   "cell_type": "markdown",
   "metadata": {},
   "source": [
    "#### Close Column Only (Input: last 12 data points, Output: the next First future data)"
   ]
  },
  {
   "cell_type": "code",
   "execution_count": null,
   "metadata": {},
   "outputs": [],
   "source": [
    "ModelTrainingManager(model_name=\"VanillaTimeSeriesTransformer_EncoderOnly\",\n",
    "    df_path=\"../data/Final_data_hourly.csv\",\n",
    "    best_path=\"../data/best_on_hyperparam_for_top_Feature_Combo_vanilla_transformer_hourly.pkl\",\n",
    "    top_features_num=0, \n",
    "    input_len=12, \n",
    "    next_ith=1,\n",
    "    top_features_path='../data/top_feattures.pkl',\n",
    "    model_file_path=\"models/transformer_enc_only_close_col_best_model_12_1.pt\").run_training_testing()"
   ]
  },
  {
   "cell_type": "markdown",
   "metadata": {},
   "source": [
    "#### Close Column Only (Input: last 12 data points, Output: the next 12th future data)"
   ]
  },
  {
   "cell_type": "code",
   "execution_count": null,
   "metadata": {},
   "outputs": [],
   "source": [
    "ModelTrainingManager(model_name=\"VanillaTimeSeriesTransformer_EncoderOnly\",\n",
    "    df_path=\"../data/Final_data_hourly.csv\",\n",
    "    best_path=\"../data/best_on_hyperparam_for_top_Feature_Combo_vanilla_transformer_hourly.pkl\",\n",
    "    top_features_num=0, \n",
    "    input_len=12, \n",
    "    next_ith=12,\n",
    "    top_features_path='../data/top_feattures.pkl',\n",
    "    model_file_path=\"models/transformer_enc_only_close_col_best_model_12_12.pt\").run_training_testing()"
   ]
  },
  {
   "cell_type": "markdown",
   "metadata": {},
   "source": [
    "#### Close Column Only (Input: last 96 data points, Output: the next First future data)"
   ]
  },
  {
   "cell_type": "code",
   "execution_count": null,
   "metadata": {},
   "outputs": [],
   "source": [
    "ModelTrainingManager(model_name=\"VanillaTimeSeriesTransformer_EncoderOnly\",\n",
    "    df_path=\"../data/Final_data_hourly.csv\",\n",
    "    best_path=\"../data/best_on_hyperparam_for_top_Feature_Combo_vanilla_transformer_hourly.pkl\",\n",
    "    top_features_num=0, \n",
    "    input_len=96, \n",
    "    next_ith=1,\n",
    "    top_features_path='../data/top_feattures.pkl',\n",
    "    model_file_path=\"models/transformer_enc_only_close_col_best_model_96_1.pt\").run_training_testing()"
   ]
  },
  {
   "cell_type": "markdown",
   "metadata": {},
   "source": [
    "#### Close Column Only (Input: last 96 data points, Output: the next 12th future data)"
   ]
  },
  {
   "cell_type": "code",
   "execution_count": null,
   "metadata": {},
   "outputs": [],
   "source": [
    "ModelTrainingManager(model_name=\"VanillaTimeSeriesTransformer_EncoderOnly\",\n",
    "    df_path=\"../data/Final_data_hourly.csv\",\n",
    "    best_path=\"../data/best_on_hyperparam_for_top_Feature_Combo_vanilla_transformer_hourly.pkl\",\n",
    "    top_features_num=0, \n",
    "    input_len=96, \n",
    "    next_ith=12,\n",
    "    top_features_path='../data/top_feattures.pkl',\n",
    "    model_file_path=\"models/transformer_enc_only_close_col_best_model_96_12.pt\").run_training_testing()"
   ]
  },
  {
   "cell_type": "markdown",
   "metadata": {},
   "source": [
    "#### Close Column Only (Input: last 504 data points, Output: the next 12 future data)"
   ]
  },
  {
   "cell_type": "code",
   "execution_count": null,
   "metadata": {},
   "outputs": [],
   "source": [
    "ModelTrainingManager(model_name=\"VanillaTimeSeriesTransformer_EncoderOnly\",\n",
    "    df_path=\"../data/Final_data_hourly.csv\",\n",
    "    best_path=\"../data/best_on_hyperparam_for_top_Feature_Combo_vanilla_transformer_hourly.pkl\",\n",
    "    top_features_num=0, \n",
    "    input_len=504, \n",
    "    next_ith=12,\n",
    "    top_features_path='../data/top_feattures.pkl',\n",
    "    model_file_path=\"models/transformer_enc_only_close_col_best_model_504_12.pt\").run_training_testing()"
   ]
  },
  {
   "cell_type": "markdown",
   "metadata": {},
   "source": [
    "## Top Columns"
   ]
  },
  {
   "cell_type": "markdown",
   "metadata": {},
   "source": [
    "#### Top Columns (Input: last 12 data points, Output: the next First future data)"
   ]
  },
  {
   "cell_type": "code",
   "execution_count": null,
   "metadata": {},
   "outputs": [],
   "source": [
    "ModelTrainingManager(model_name=\"VanillaTimeSeriesTransformer_EncoderOnly\",\n",
    "    df_path=\"../data/Final_data_hourly.csv\",\n",
    "    best_path=\"../data/best_on_hyperparam_for_top_Feature_Combo_vanilla_transformer_hourly.pkl\",\n",
    "    top_features_num=10, \n",
    "    input_len=12, \n",
    "    next_ith=1,\n",
    "    top_features_path='../data/top_feattures.pkl',\n",
    "    model_file_path=\"models/transformer_enc_only_close&10_col_best_model_12_1.pt\").run_training_testing()"
   ]
  },
  {
   "cell_type": "markdown",
   "metadata": {},
   "source": [
    "#### Top Columns (Input: last 12 data points, Output: the next 12th future data)"
   ]
  },
  {
   "cell_type": "code",
   "execution_count": null,
   "metadata": {},
   "outputs": [],
   "source": [
    "ModelTrainingManager(model_name=\"VanillaTimeSeriesTransformer_EncoderOnly\",\n",
    "    df_path=\"../data/Final_data_hourly.csv\",\n",
    "    best_path=\"../data/best_on_hyperparam_for_top_Feature_Combo_vanilla_transformer_hourly.pkl\",\n",
    "    top_features_num=10, \n",
    "    input_len=12, \n",
    "    next_ith=12,\n",
    "    top_features_path='../data/top_feattures.pkl',\n",
    "    model_file_path=\"models/transformer_enc_only_close&10_col_best_model_12_12.pt\").run_training_testing()"
   ]
  },
  {
   "cell_type": "markdown",
   "metadata": {},
   "source": [
    "#### Top Columns (Input: last 96 data points, Output: the next first future data)"
   ]
  },
  {
   "cell_type": "code",
   "execution_count": null,
   "metadata": {},
   "outputs": [],
   "source": [
    "ModelTrainingManager(model_name=\"VanillaTimeSeriesTransformer_EncoderOnly\",\n",
    "    df_path=\"../data/Final_data_hourly.csv\",\n",
    "    best_path=\"../data/best_on_hyperparam_for_top_Feature_Combo_vanilla_transformer_hourly.pkl\",\n",
    "    top_features_num=10, \n",
    "    input_len=96, \n",
    "    next_ith=1,\n",
    "    top_features_path='../data/top_feattures.pkl',\n",
    "    model_file_path=\"models/transformer_enc_only_close&10_col_best_model_96_1.pt\").run_training_testing()"
   ]
  },
  {
   "cell_type": "markdown",
   "metadata": {},
   "source": [
    "#### Top Columns (Input: last 96 data points, Output: the next 12th future data)"
   ]
  },
  {
   "cell_type": "code",
   "execution_count": null,
   "metadata": {},
   "outputs": [],
   "source": [
    "ModelTrainingManager(model_name=\"VanillaTimeSeriesTransformer_EncoderOnly\",\n",
    "    df_path=\"../data/Final_data_hourly.csv\",\n",
    "    best_path=\"../data/best_on_hyperparam_for_top_Feature_Combo_vanilla_transformer_hourly.pkl\",\n",
    "    top_features_num=10, \n",
    "    input_len=96, \n",
    "    next_ith=12,\n",
    "    top_features_path='../data/top_feattures.pkl',\n",
    "    model_file_path=\"models/transformer_enc_only_close&10_col_best_model_96_12.pt\").run_training_testing()"
   ]
  },
  {
   "cell_type": "markdown",
   "metadata": {},
   "source": [
    "#### Top Columns (Input: last 504 data points, Output: the next 12 future data)"
   ]
  },
  {
   "cell_type": "code",
   "execution_count": null,
   "metadata": {},
   "outputs": [],
   "source": [
    "ModelTrainingManager(model_name=\"VanillaTimeSeriesTransformer_EncoderOnly\",\n",
    "    df_path=\"../data/Final_data_hourly.csv\",\n",
    "    best_path=\"../data/best_on_hyperparam_for_top_Feature_Combo_vanilla_transformer_hourly.pkl\",\n",
    "    top_features_num=10, \n",
    "    input_len=504, \n",
    "    next_ith=12,\n",
    "    top_features_path='../data/top_feattures.pkl',\n",
    "    model_file_path=\"models/transformer_enc_only_close&10_col_best_model_504_12.pt\").run_training_testing()"
   ]
  },
  {
   "cell_type": "markdown",
   "metadata": {},
   "source": [
    "# Vanilla Transformer - Encoder Decoder (Teacher Forcing)"
   ]
  },
  {
   "cell_type": "markdown",
   "metadata": {},
   "source": [
    "#### Close Column Only (Input: last 96 data points, Output: the next first future data)"
   ]
  },
  {
   "cell_type": "code",
   "execution_count": null,
   "metadata": {},
   "outputs": [],
   "source": [
    "ModelTrainingManager(model_name=\"VanillaTimeSeriesTransformer\",\n",
    "    df_path=\"../data/Final_data_hourly.csv\",\n",
    "    best_path=\"../data/best_on_hyperparam_for_top_Feature_Combo_vanilla_transformer_w_decoder_hourly.pkl\",\n",
    "    top_features_num=0, \n",
    "    input_len=96, \n",
    "    next_ith=1,\n",
    "    top_features_path='../data/top_feattures.pkl',\n",
    "    model_file_path=\"models/transformer_enc_dec_close_col_best_model_96_1.pt\").run_training_testing()"
   ]
  },
  {
   "cell_type": "markdown",
   "metadata": {},
   "source": [
    "#### Top 2 Features (Input: last 96 data points, Output: the next first future data)"
   ]
  },
  {
   "cell_type": "code",
   "execution_count": null,
   "metadata": {},
   "outputs": [],
   "source": [
    "ModelTrainingManager(model_name=\"VanillaTimeSeriesTransformer\",\n",
    "    df_path=\"../data/Final_data_hourly.csv\",\n",
    "    best_path=\"../data/best_on_hyperparam_for_top_Feature_Combo_vanilla_transformer_w_decoder_hourly.pkl\",\n",
    "    top_features_num=2, \n",
    "    input_len=96, \n",
    "    next_ith=1,\n",
    "    top_features_path='../data/top_feattures.pkl',\n",
    "    model_file_path=\"models/transformer_enc_dec_close&2_col_best_model_96_1.pt\").run_training_testing()"
   ]
  },
  {
   "cell_type": "markdown",
   "metadata": {},
   "source": [
    "#### Top 5 Features (Input: last 96 data points, Output: the next first future data)"
   ]
  },
  {
   "cell_type": "code",
   "execution_count": null,
   "metadata": {},
   "outputs": [],
   "source": [
    "ModelTrainingManager(model_name=\"VanillaTimeSeriesTransformer\",\n",
    "    df_path=\"../data/Final_data_hourly.csv\",\n",
    "    best_path=\"../data/best_on_hyperparam_for_top_Feature_Combo_vanilla_transformer_w_decoder_hourly.pkl\",\n",
    "    top_features_num=5, \n",
    "    input_len=96, \n",
    "    next_ith=1,\n",
    "    top_features_path='../data/top_feattures.pkl',\n",
    "    model_file_path=\"models/transformer_enc_dec_close&5_col_best_model_96_1.pt\").run_training_testing()"
   ]
  },
  {
   "cell_type": "markdown",
   "metadata": {},
   "source": [
    "#### Top 10 Features (Input: last 96 data points, Output: the next first future data)"
   ]
  },
  {
   "cell_type": "code",
   "execution_count": null,
   "metadata": {},
   "outputs": [],
   "source": [
    "ModelTrainingManager(model_name=\"VanillaTimeSeriesTransformer\",\n",
    "    df_path=\"../data/Final_data_hourly.csv\",\n",
    "    best_path=\"../data/best_on_hyperparam_for_top_Feature_Combo_vanilla_transformer_w_decoder_hourly.pkl\",\n",
    "    top_features_num=10, \n",
    "    input_len=96, \n",
    "    next_ith=1,\n",
    "    top_features_path='../data/top_feattures.pkl',\n",
    "    model_file_path=\"models/transformer_enc_dec_close&10_col_best_model_96_1.pt\").run_training_testing()"
   ]
  },
  {
   "cell_type": "markdown",
   "metadata": {},
   "source": [
    "#### Selected Top Features (Input: last 96 data points, Output: the next 12th future data)"
   ]
  },
  {
   "cell_type": "code",
   "execution_count": null,
   "metadata": {},
   "outputs": [],
   "source": [
    "ModelTrainingManager(model_name=\"VanillaTimeSeriesTransformer\",\n",
    "    df_path=\"../data/Final_data_hourly.csv\",\n",
    "    best_path=\"../data/best_on_hyperparam_for_top_Feature_Combo_vanilla_transformer_w_decoder_hourly.pkl\",\n",
    "    top_features_num=0, \n",
    "    input_len=96, \n",
    "    next_ith=12,\n",
    "    top_features_path='../data/top_feattures.pkl',\n",
    "    model_file_path=\"models/transformer_enc_dec_close_col_best_model_96_12.pt\").run_training_testing()"
   ]
  },
  {
   "cell_type": "markdown",
   "metadata": {},
   "source": [
    "#### Selected Top Features (Input: last 192 data points, Output: the next 24th future data)"
   ]
  },
  {
   "cell_type": "code",
   "execution_count": null,
   "metadata": {},
   "outputs": [],
   "source": [
    "ModelTrainingManager(model_name=\"VanillaTimeSeriesTransformer\",\n",
    "    df_path=\"../data/Final_data_hourly.csv\",\n",
    "    best_path=\"../data/best_on_hyperparam_for_top_Feature_Combo_vanilla_transformer_w_decoder_hourly.pkl\",\n",
    "    top_features_num=0, \n",
    "    input_len=192, \n",
    "    next_ith=24,\n",
    "    top_features_path='../data/top_feattures.pkl',\n",
    "    model_file_path=\"models/transformer_enc_dec_close_col_best_model_192_24.pt\").run_training_testing()"
   ]
  },
  {
   "cell_type": "markdown",
   "metadata": {},
   "source": [
    "## Close Column Only"
   ]
  },
  {
   "cell_type": "markdown",
   "metadata": {},
   "source": [
    "#### Close Column Only (Input: last 12 data points, Output: the next First future data)"
   ]
  },
  {
   "cell_type": "code",
   "execution_count": null,
   "metadata": {},
   "outputs": [],
   "source": [
    "ModelTrainingManager(model_name=\"VanillaTimeSeriesTransformer\",\n",
    "    df_path=\"../data/Final_data_hourly.csv\",\n",
    "    best_path=\"../data/best_on_hyperparam_for_top_Feature_Combo_vanilla_transformer_w_decoder_hourly.pkl\",\n",
    "    top_features_num=0, \n",
    "    input_len=12, \n",
    "    next_ith=1,\n",
    "    top_features_path='../data/top_feattures.pkl',\n",
    "    model_file_path=\"models/transformer_enc_dec_close_col_best_model_12_1.pt\").run_training_testing()"
   ]
  },
  {
   "cell_type": "markdown",
   "metadata": {},
   "source": [
    "#### Close Column Only (Input: last 12 data points, Output: the next 12th future data)"
   ]
  },
  {
   "cell_type": "code",
   "execution_count": null,
   "metadata": {},
   "outputs": [],
   "source": [
    "ModelTrainingManager(model_name=\"VanillaTimeSeriesTransformer\",\n",
    "    df_path=\"../data/Final_data_hourly.csv\",\n",
    "    best_path=\"../data/best_on_hyperparam_for_top_Feature_Combo_vanilla_transformer_w_decoder_hourly.pkl\",\n",
    "    top_features_num=0, \n",
    "    input_len=12, \n",
    "    next_ith=12,\n",
    "    top_features_path='../data/top_feattures.pkl',\n",
    "    model_file_path=\"models/transformer_enc_dec_close_col_best_model_12_12.pt\").run_training_testing()"
   ]
  },
  {
   "cell_type": "markdown",
   "metadata": {},
   "source": [
    "#### Close Column Only (Input: last 96 data points, Output: the next First future data)"
   ]
  },
  {
   "cell_type": "code",
   "execution_count": null,
   "metadata": {},
   "outputs": [],
   "source": [
    "ModelTrainingManager(model_name=\"VanillaTimeSeriesTransformer\",\n",
    "    df_path=\"../data/Final_data_hourly.csv\",\n",
    "    best_path=\"../data/best_on_hyperparam_for_top_Feature_Combo_vanilla_transformer_w_decoder_hourly.pkl\",\n",
    "    top_features_num=0, \n",
    "    input_len=96, \n",
    "    next_ith=1,\n",
    "    top_features_path='../data/top_feattures.pkl',\n",
    "    model_file_path=\"models/transformer_enc_dec_close_col_best_model_96_1.pt\").run_training_testing()"
   ]
  },
  {
   "cell_type": "markdown",
   "metadata": {},
   "source": [
    "#### Close Column Only (Input: last 96 data points, Output: the next 12th future data)"
   ]
  },
  {
   "cell_type": "code",
   "execution_count": null,
   "metadata": {},
   "outputs": [],
   "source": [
    "ModelTrainingManager(model_name=\"VanillaTimeSeriesTransformer\",\n",
    "    df_path=\"../data/Final_data_hourly.csv\",\n",
    "    best_path=\"../data/best_on_hyperparam_for_top_Feature_Combo_vanilla_transformer_w_decoder_hourly.pkl\",\n",
    "    top_features_num=0, \n",
    "    input_len=96, \n",
    "    next_ith=12,\n",
    "    top_features_path='../data/top_feattures.pkl',\n",
    "    model_file_path=\"models/transformer_enc_dec_close_col_best_model_96_12.pt\").run_training_testing()"
   ]
  },
  {
   "cell_type": "markdown",
   "metadata": {},
   "source": [
    "#### Close Column Only (Input: last 504 data points, Output: the next 12 future data)"
   ]
  },
  {
   "cell_type": "code",
   "execution_count": null,
   "metadata": {},
   "outputs": [],
   "source": [
    "ModelTrainingManager(model_name=\"VanillaTimeSeriesTransformer\",\n",
    "    df_path=\"../data/Final_data_hourly.csv\",\n",
    "    best_path=\"../data/best_on_hyperparam_for_top_Feature_Combo_vanilla_transformer_w_decoder_hourly.pkl\",\n",
    "    top_features_num=0, \n",
    "    input_len=504, \n",
    "    next_ith=12,\n",
    "    top_features_path='../data/top_feattures.pkl',\n",
    "    model_file_path=\"models/transformer_enc_dec_close_col_best_model_504_12.pt\").run_training_testing()"
   ]
  },
  {
   "cell_type": "markdown",
   "metadata": {},
   "source": [
    "## Top Columns"
   ]
  },
  {
   "cell_type": "markdown",
   "metadata": {},
   "source": [
    "#### Top Columns (Input: last 12 data points, Output: the next First future data)"
   ]
  },
  {
   "cell_type": "code",
   "execution_count": null,
   "metadata": {},
   "outputs": [],
   "source": [
    "ModelTrainingManager(model_name=\"VanillaTimeSeriesTransformer\",\n",
    "    df_path=\"../data/Final_data_hourly.csv\",\n",
    "    best_path=\"../data/best_on_hyperparam_for_top_Feature_Combo_vanilla_transformer_w_decoder_hourly.pkl\",\n",
    "    top_features_num=10, \n",
    "    input_len=12, \n",
    "    next_ith=1,\n",
    "    top_features_path='../data/top_feattures.pkl',\n",
    "    model_file_path=\"models/transformer_enc_dec_close_close&10_col_best_model_12_1.pt\").run_training_testing()"
   ]
  },
  {
   "cell_type": "markdown",
   "metadata": {},
   "source": [
    "#### Top Columns (Input: last 12 data points, Output: the next 12th future data)"
   ]
  },
  {
   "cell_type": "code",
   "execution_count": null,
   "metadata": {},
   "outputs": [],
   "source": [
    "ModelTrainingManager(model_name=\"VanillaTimeSeriesTransformer\",\n",
    "    df_path=\"../data/Final_data_hourly.csv\",\n",
    "    best_path=\"../data/best_on_hyperparam_for_top_Feature_Combo_vanilla_transformer_w_decoder_hourly.pkl\",\n",
    "    top_features_num=10, \n",
    "    input_len=12, \n",
    "    next_ith=12,\n",
    "    top_features_path='../data/top_feattures.pkl',\n",
    "    model_file_path=\"models/transformer_enc_dec_close_close&10_col_best_model_12_12.pt\").run_training_testing()"
   ]
  },
  {
   "cell_type": "markdown",
   "metadata": {},
   "source": [
    "#### Top Columns (Input: last 96 data points, Output: the next First future data)"
   ]
  },
  {
   "cell_type": "code",
   "execution_count": null,
   "metadata": {},
   "outputs": [],
   "source": [
    "ModelTrainingManager(model_name=\"VanillaTimeSeriesTransformer\",\n",
    "    df_path=\"../data/Final_data_hourly.csv\",\n",
    "    best_path=\"../data/best_on_hyperparam_for_top_Feature_Combo_vanilla_transformer_w_decoder_hourly.pkl\",\n",
    "    top_features_num=10, \n",
    "    input_len=96, \n",
    "    next_ith=1,\n",
    "    top_features_path='../data/top_feattures.pkl',\n",
    "    model_file_path=\"models/transformer_enc_dec_close_close&10_col_best_model_96_1.pt\").run_training_testing()"
   ]
  },
  {
   "cell_type": "markdown",
   "metadata": {},
   "source": [
    "#### Top Columns (Input: last 96 data points, Output: the next 12th future data)"
   ]
  },
  {
   "cell_type": "code",
   "execution_count": null,
   "metadata": {},
   "outputs": [],
   "source": [
    "ModelTrainingManager(model_name=\"VanillaTimeSeriesTransformer\",\n",
    "    df_path=\"../data/Final_data_hourly.csv\",\n",
    "    best_path=\"../data/best_on_hyperparam_for_top_Feature_Combo_vanilla_transformer_w_decoder_hourly.pkl\",\n",
    "    top_features_num=10, \n",
    "    input_len=96, \n",
    "    next_ith=12,\n",
    "    top_features_path='../data/top_feattures.pkl',\n",
    "    model_file_path=\"models/transformer_enc_dec_close_close&10_col_best_model_96_12.pt\").run_training_testing()"
   ]
  },
  {
   "cell_type": "markdown",
   "metadata": {},
   "source": [
    "#### Top Columns (Input: last 504 data points, Output: the next 12 future data)"
   ]
  },
  {
   "cell_type": "code",
   "execution_count": null,
   "metadata": {},
   "outputs": [],
   "source": [
    "ModelTrainingManager(model_name=\"VanillaTimeSeriesTransformer\",\n",
    "    df_path=\"../data/Final_data_hourly.csv\",\n",
    "    best_path=\"../data/best_on_hyperparam_for_top_Feature_Combo_vanilla_transformer_w_decoder_hourly.pkl\",\n",
    "    top_features_num=10, \n",
    "    input_len=504, \n",
    "    next_ith=12,\n",
    "    top_features_path='../data/top_feattures.pkl',\n",
    "    model_file_path=\"models/transformer_enc_dec_close_close&10_col_best_model_504_12.pt\").run_training_testing()"
   ]
  }
 ],
 "metadata": {
  "kernelspec": {
   "display_name": "BTC Project Kernel 1",
   "language": "python",
   "name": "project1"
  },
  "language_info": {
   "codemirror_mode": {
    "name": "ipython",
    "version": 3
   },
   "file_extension": ".py",
   "mimetype": "text/x-python",
   "name": "python",
   "nbconvert_exporter": "python",
   "pygments_lexer": "ipython3",
   "version": "3.9.17"
  },
  "orig_nbformat": 4
 },
 "nbformat": 4,
 "nbformat_minor": 2
}
