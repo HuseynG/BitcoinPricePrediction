{
 "cells": [
  {
   "cell_type": "code",
   "execution_count": null,
   "id": "ddc53388",
   "metadata": {},
   "outputs": [],
   "source": [
    "# https://stocknewsapi.com/api/v1/stat?section=alltickers&date=01012012-today&page=1&token=rqumqnwe7gtwrueugzs49caxmo7px2dhxeojcj8x"
   ]
  },
  {
   "cell_type": "code",
   "execution_count": null,
   "id": "85fba6ec",
   "metadata": {},
   "outputs": [],
   "source": [
    "from pprint import pprint as pp\n",
    "import pickle\n",
    "import requests"
   ]
  },
  {
   "cell_type": "code",
   "execution_count": null,
   "id": "c93a225f",
   "metadata": {},
   "outputs": [],
   "source": [
    "def get_all_pages():\n",
    "    base_url = 'https://stocknewsapi.com/api/v1/stat'\n",
    "    params = {\n",
    "        'section': 'alltickers',\n",
    "        'date': '01012018-today',\n",
    "        'token': 'okfxjnhaqoaykiabzj68juihygqd3tzceyxh1vup',\n",
    "    }\n",
    "\n",
    "    page = 1\n",
    "    responses = []\n",
    "    while True:\n",
    "        params['page'] = page\n",
    "        response = requests.get(base_url, params=params)\n",
    "        \n",
    "        if response.status_code == 200:\n",
    "            data = response.json()\n",
    "            if not data:\n",
    "                break\n",
    "            responses.append(data)\n",
    "            page += 1\n",
    "#             break\n",
    "            \n",
    "        else:\n",
    "            print(\"Something went wrong\")\n",
    "            break\n",
    "\n",
    "    return responses\n",
    "\n",
    "\n",
    "responses = get_all_pages()\n",
    "for response in responses:\n",
    "    pp(response)"
   ]
  },
  {
   "cell_type": "code",
   "execution_count": null,
   "id": "9b76a62a",
   "metadata": {},
   "outputs": [],
   "source": [
    "responses"
   ]
  },
  {
   "cell_type": "code",
   "execution_count": null,
   "id": "4585311e",
   "metadata": {},
   "outputs": [],
   "source": [
    "with open('raw_news_sentiment_all_stock.pkl', 'wb') as f:\n",
    "    pickle.dump(responses, f)"
   ]
  },
  {
   "cell_type": "code",
   "execution_count": null,
   "id": "492e823f",
   "metadata": {},
   "outputs": [],
   "source": []
  }
 ],
 "metadata": {
  "kernelspec": {
   "display_name": "Python 3 (ipykernel)",
   "language": "python",
   "name": "python3"
  },
  "language_info": {
   "codemirror_mode": {
    "name": "ipython",
    "version": 3
   },
   "file_extension": ".py",
   "mimetype": "text/x-python",
   "name": "python",
   "nbconvert_exporter": "python",
   "pygments_lexer": "ipython3",
   "version": "3.9.16"
  }
 },
 "nbformat": 4,
 "nbformat_minor": 5
}
