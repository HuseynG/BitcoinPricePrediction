{
 "cells": [
  {
   "cell_type": "code",
   "execution_count": null,
   "id": "2137f346",
   "metadata": {},
   "outputs": [],
   "source": [
    "# https://forexnewsapi.com/api/v1/stat?section=general&date=01012020-today&page=1&token=slgt9ahgc27q8qslj4wuqwinyzrhkzh8kfbrxfmn"
   ]
  },
  {
   "cell_type": "code",
   "execution_count": null,
   "id": "f617f84f",
   "metadata": {},
   "outputs": [],
   "source": [
    "from pprint import pprint as pp\n",
    "import pickle\n",
    "import requests"
   ]
  },
  {
   "cell_type": "code",
   "execution_count": null,
   "id": "72ff62fe",
   "metadata": {},
   "outputs": [],
   "source": [
    "def get_all_pages():\n",
    "    base_url = 'https://forexnewsapi.com/api/v1/stat'\n",
    "    params = {\n",
    "        'section': 'general',\n",
    "        'date': '01012020-today',\n",
    "        'token': 'slgt9ahgc27q8qslj4wuqwinyzrhkzh8kfbrxfmn',\n",
    "    }\n",
    "\n",
    "    page = 1\n",
    "    responses = []\n",
    "    while True:\n",
    "        params['page'] = page\n",
    "        response = requests.get(base_url, params=params)\n",
    "        \n",
    "        if response.status_code == 200:\n",
    "            data = response.json()\n",
    "            if not data:\n",
    "                break\n",
    "            responses.append(data)\n",
    "            page += 1\n",
    "#             break\n",
    "            \n",
    "        else:\n",
    "            print(\"Something went wrong\")\n",
    "            break\n",
    "\n",
    "    return responses\n",
    "\n",
    "\n",
    "responses = get_all_pages()\n",
    "for response in responses:\n",
    "    pp(response)"
   ]
  },
  {
   "cell_type": "code",
   "execution_count": null,
   "id": "4f5b7691",
   "metadata": {},
   "outputs": [],
   "source": [
    "responses"
   ]
  },
  {
   "cell_type": "code",
   "execution_count": null,
   "id": "6ac79cff",
   "metadata": {},
   "outputs": [],
   "source": [
    "with open('raw_news_sentiment_general_fx.pkl', 'wb') as f:\n",
    "    pickle.dump(responses, f)"
   ]
  },
  {
   "cell_type": "code",
   "execution_count": null,
   "id": "57fa8b9b",
   "metadata": {},
   "outputs": [],
   "source": []
  }
 ],
 "metadata": {
  "kernelspec": {
   "display_name": "Python 3 (ipykernel)",
   "language": "python",
   "name": "python3"
  },
  "language_info": {
   "codemirror_mode": {
    "name": "ipython",
    "version": 3
   },
   "file_extension": ".py",
   "mimetype": "text/x-python",
   "name": "python",
   "nbconvert_exporter": "python",
   "pygments_lexer": "ipython3",
   "version": "3.9.16"
  }
 },
 "nbformat": 4,
 "nbformat_minor": 5
}
