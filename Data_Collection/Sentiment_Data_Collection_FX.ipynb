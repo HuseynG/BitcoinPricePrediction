{
 "cells": [
  {
   "cell_type": "code",
   "execution_count": null,
   "id": "f617f84f",
   "metadata": {},
   "outputs": [],
   "source": [
    "from pprint import pprint as pp\n",
    "import pickle\n",
    "import requests"
   ]
  },
  {
   "cell_type": "code",
   "execution_count": null,
   "id": "72ff62fe",
   "metadata": {},
   "outputs": [],
   "source": [
    "# https://forexnewsapi.com/api/v1/stat?section=general&date=01012020-today&page=1&token=slgt9ahgc27q8qslj4wuqwinyzrhkzh8kfbrxfmn\n",
    "def get_all_pages():\n",
    "    \"\"\"\n",
    "    API Doc Link: https://forexnewsapi.com/documentation\n",
    "    \n",
    "    Retrieves all forex news sentiment statistics from Forex News API.\n",
    "    \n",
    "    Returns:\n",
    "    - List of JSON responses containing the forex news statistics. Each entry in the list corresponds to a page of data.\n",
    "    \n",
    "    Notes:\n",
    "    - Please ensure that you insert your own API token.\n",
    "    - The function prints \"Something went wrong\" if the request encounters an error.\n",
    "    \"\"\"\n",
    "    base_url = 'https://forexnewsapi.com/api/v1/stat'\n",
    "    params = {\n",
    "        'section': 'general',\n",
    "        'date': '01012020-today',\n",
    "        'token': 'slgt9ahgc27q8qslj4wuqwinyzrhkzh8kfbrxfmn',\n",
    "    }\n",
    "\n",
    "    page = 1\n",
    "    responses = []\n",
    "    while True:\n",
    "        params['page'] = page\n",
    "        response = requests.get(base_url, params=params)\n",
    "        \n",
    "        if response.status_code == 200:\n",
    "            data = response.json()\n",
    "            if not data:\n",
    "                break\n",
    "            responses.append(data)\n",
    "            page += 1\n",
    "            \n",
    "        else:\n",
    "            print(\"Something went wrong\")\n",
    "            break\n",
    "\n",
    "    return responses\n",
    "\n",
    "\n",
    "responses = get_all_pages()\n",
    "for response in responses:\n",
    "    pp(response)\n",
    "\n",
    "with open('raw_news_sentiment_general_fx.pkl', 'wb') as f:\n",
    "    pickle.dump(responses, f)"
   ]
  }
 ],
 "metadata": {
  "kernelspec": {
   "display_name": "Python 3 (ipykernel)",
   "language": "python",
   "name": "python3"
  },
  "language_info": {
   "codemirror_mode": {
    "name": "ipython",
    "version": 3
   },
   "file_extension": ".py",
   "mimetype": "text/x-python",
   "name": "python",
   "nbconvert_exporter": "python",
   "pygments_lexer": "ipython3",
   "version": "3.9.16"
  }
 },
 "nbformat": 4,
 "nbformat_minor": 5
}
